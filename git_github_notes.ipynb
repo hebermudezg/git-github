{
 "cells": [
  {
   "cell_type": "markdown",
   "id": "87a47b37-64e6-4815-acea-87ebd83e65e3",
   "metadata": {},
   "source": [
    "<center>\n",
    "<img src=\"images/git.png\" alt=\"U-net Image\" width=\"300\" align=\"middle\"/>\n",
    "</center>\n",
    "<br>\n",
    "Git is software for <span style=\"color:red;\">tracking changes</span> in any set of files, usually used for coodinating work among programmers.\n",
    "\n",
    "Git was originally authored by Linus Torvalds in 2005 for development of the Linux kernel, with other kernel developers contributing to its initial development."
   ]
  },
  {
   "cell_type": "code",
   "execution_count": null,
   "id": "2ebf5124-6cdd-456f-be4c-6d80ceec4a78",
   "metadata": {},
   "outputs": [],
   "source": [
    "git intit"
   ]
  },
  {
   "cell_type": "code",
   "execution_count": null,
   "id": "3fa033a2-c703-45cb-b2e5-89fb2e1eff77",
   "metadata": {},
   "outputs": [],
   "source": []
  },
  {
   "cell_type": "code",
   "execution_count": null,
   "id": "df0c525e-c217-4783-9603-e3b93cdf49a5",
   "metadata": {},
   "outputs": [],
   "source": []
  },
  {
   "cell_type": "code",
   "execution_count": null,
   "id": "9418bb98-e3da-458a-8e9e-454f56fcb8fd",
   "metadata": {},
   "outputs": [],
   "source": []
  },
  {
   "cell_type": "code",
   "execution_count": null,
   "id": "ff2fdb21-0d96-4848-b5e0-1b69cde72408",
   "metadata": {},
   "outputs": [],
   "source": []
  },
  {
   "cell_type": "markdown",
   "id": "9535fde2-379d-4101-8547-d135fc33ca3c",
   "metadata": {},
   "source": [
    "# Bibliography \n",
    "\n",
    "[1] Git from: https://en.wikipedia.org/wiki/Git"
   ]
  },
  {
   "cell_type": "code",
   "execution_count": null,
   "id": "4305d1e6-b3dd-40bd-9001-20edf63725c1",
   "metadata": {},
   "outputs": [],
   "source": []
  }
 ],
 "metadata": {
  "kernelspec": {
   "display_name": "Python 3 (ipykernel)",
   "language": "python",
   "name": "python3"
  },
  "language_info": {
   "codemirror_mode": {
    "name": "ipython",
    "version": 3
   },
   "file_extension": ".py",
   "mimetype": "text/x-python",
   "name": "python",
   "nbconvert_exporter": "python",
   "pygments_lexer": "ipython3",
   "version": "3.10.4"
  }
 },
 "nbformat": 4,
 "nbformat_minor": 5
}
